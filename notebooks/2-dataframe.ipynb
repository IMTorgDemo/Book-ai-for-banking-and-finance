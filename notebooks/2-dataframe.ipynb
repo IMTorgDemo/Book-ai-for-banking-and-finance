{
 "cells": [
  {
   "attachments": {},
   "cell_type": "markdown",
   "metadata": {},
   "source": [
    "# The Dataframe data structure\n",
    "\n",
    "The data scientist's primary tool is the dataframe.  This data structure enables the user to quickly filter and select records, as well as complete transformations, similar to SQL statements, but typically in a more expressible manner.  Once the data are in the correct format, it can be used as the input for a statistical or machine learning model.\n",
    "\n",
    "The dataframe is described as rows of records, or observations, and columns of data variables describing those records.  It was originally implemented in the R language; however, it is now ubiquitous in data science frameworks, such as Python's Pandas, Scala's Spark, and Java's TableSaw. "
   ]
  },
  {
   "attachments": {},
   "cell_type": "markdown",
   "metadata": {},
   "source": [
    "## Introduction\n",
    "\n",
    "In the Datascience R versus Pandas debate, it is really an apples and oranges comparison.  R is a domain specific language in the field of statistics, analytics, and data visualization.  This makes R great for consulting, research, and basic analysis, especially within a careful academic context.  \n",
    "\n",
    "In contrast, Python's statistics packages are woefully inadequate and rarely mention details which are of great importance to statistical practicioners.  An example of this is the use of contrasts in linear models.  The different Types (I-IV) of Analysis Of Variance models use different encodings for data.  Determining their estimators is not trivial.\n",
    "\n",
    "However, if you want tight integration with other applications, the strengths of typical programming languages, and want to 'just get stuff done', then Python / Pandas is a great solution.  Pandas is quite good at data manipulation.  Python has the very strong NumPy and SciKit Learn module, which are very good for matrix operations and predictive modeling.  And the Python language is a really good general scripting language with strong support for strings and datetime types."
   ]
  },
  {
   "attachments": {},
   "cell_type": "markdown",
   "metadata": {},
   "source": [
    "## Config\n",
    "\n",
    "We will begin by installing both the jupyter `R-irkenel` and `rpy2` so that we can move data between R and Pandas and compare expressions and results."
   ]
  },
  {
   "cell_type": "code",
   "execution_count": 1,
   "metadata": {},
   "outputs": [],
   "source": [
    "import pandas as pd\n",
    "import numpy as np"
   ]
  },
  {
   "cell_type": "markdown",
   "metadata": {},
   "source": [
    "! pip install rpy2"
   ]
  },
  {
   "cell_type": "markdown",
   "metadata": {},
   "source": [
    "%load_ext rpy2.ipython"
   ]
  },
  {
   "cell_type": "code",
   "execution_count": 3,
   "metadata": {},
   "outputs": [
    {
     "data": {
      "text/html": [
       "<div>\n",
       "<style scoped>\n",
       "    .dataframe tbody tr th:only-of-type {\n",
       "        vertical-align: middle;\n",
       "    }\n",
       "\n",
       "    .dataframe tbody tr th {\n",
       "        vertical-align: top;\n",
       "    }\n",
       "\n",
       "    .dataframe thead th {\n",
       "        text-align: right;\n",
       "    }\n",
       "</style>\n",
       "<table border=\"1\" class=\"dataframe\">\n",
       "  <thead>\n",
       "    <tr style=\"text-align: right;\">\n",
       "      <th></th>\n",
       "      <th>timestamp</th>\n",
       "      <th>ticker</th>\n",
       "      <th>price</th>\n",
       "      <th>quantity</th>\n",
       "    </tr>\n",
       "  </thead>\n",
       "  <tbody>\n",
       "    <tr>\n",
       "      <th>0</th>\n",
       "      <td>2016-05-25 13:30:01.023</td>\n",
       "      <td>MSFT</td>\n",
       "      <td>51.95</td>\n",
       "      <td>75</td>\n",
       "    </tr>\n",
       "    <tr>\n",
       "      <th>1</th>\n",
       "      <td>2016-05-25 13:30:01.038</td>\n",
       "      <td>MSFT</td>\n",
       "      <td>51.95</td>\n",
       "      <td>155</td>\n",
       "    </tr>\n",
       "    <tr>\n",
       "      <th>2</th>\n",
       "      <td>2016-05-25 13:30:03.048</td>\n",
       "      <td>GOOG</td>\n",
       "      <td>720.77</td>\n",
       "      <td>100</td>\n",
       "    </tr>\n",
       "    <tr>\n",
       "      <th>3</th>\n",
       "      <td>2016-05-25 13:30:03.048</td>\n",
       "      <td>GOOG</td>\n",
       "      <td>720.92</td>\n",
       "      <td>100</td>\n",
       "    </tr>\n",
       "    <tr>\n",
       "      <th>4</th>\n",
       "      <td>2016-05-25 13:30:03.048</td>\n",
       "      <td>AAPL</td>\n",
       "      <td>98.00</td>\n",
       "      <td>100</td>\n",
       "    </tr>\n",
       "  </tbody>\n",
       "</table>\n",
       "</div>"
      ],
      "text/plain": [
       "                timestamp ticker   price  quantity\n",
       "0 2016-05-25 13:30:01.023   MSFT   51.95        75\n",
       "1 2016-05-25 13:30:01.038   MSFT   51.95       155\n",
       "2 2016-05-25 13:30:03.048   GOOG  720.77       100\n",
       "3 2016-05-25 13:30:03.048   GOOG  720.92       100\n",
       "4 2016-05-25 13:30:03.048   AAPL   98.00       100"
      ]
     },
     "execution_count": 3,
     "metadata": {},
     "output_type": "execute_result"
    }
   ],
   "source": [
    "trades = pd.DataFrame(\n",
    "    [\n",
    "        [\"2016-05-25 13:30:01.023\", \"MSFT\", 51.95, 75],\n",
    "        [\"2016-05-25 13:30:01.038\", \"MSFT\", 51.95, 155],\n",
    "        [\"2016-05-25 13:30:03.048\", \"GOOG\", 720.77, 100],\n",
    "        [\"2016-05-25 13:30:03.048\", \"GOOG\", 720.92, 100],\n",
    "        [\"2016-05-25 13:30:03.048\", \"AAPL\", 98.00, 100],\n",
    "    ],\n",
    "    columns=[\"timestamp\", \"ticker\", \"price\", \"quantity\"],   #set index during assignment: `, index_col='timestamp'`\n",
    ")\n",
    "trades['timestamp'] = pd.to_datetime(trades['timestamp'])\n",
    "trades.head()"
   ]
  },
  {
   "cell_type": "code",
   "execution_count": null,
   "metadata": {},
   "outputs": [],
   "source": [
    "%%R -i trades\n",
    "head( trades )"
   ]
  },
  {
   "attachments": {},
   "cell_type": "markdown",
   "metadata": {},
   "source": [
    "Everything looks to be working, let's move on."
   ]
  },
  {
   "attachments": {},
   "cell_type": "markdown",
   "metadata": {},
   "source": [
    "## Selections\n",
    "\n",
    "We will start by comparing against typical SQL queries.  The dataframe really shows its expressionful nature through brackets `[]`.  R and Pandas are similar in concept, but different in nuances.\n",
    "\n",
    "* select columns: `SELECT column1, column2, ...FROM table_name;`\n",
    "* select distinct: `SELECT DISTINCT column1, column2, ... FROM table_name;` \n",
    "* where (with AND, OR, NOT): `SELECT column1, column2, ... FROM table_name WHERE condition;`\n",
    "* order by: `SELECT column1, column2, ... FROM table_name ORDER BY column1, column2, ... ASC|DESC;`\n",
    "* insert into: `INSERT INTO table_name VALUES (value1, value2, value3, ...);`\n",
    "\n",
    "Many of these methods come with the argument `inplace=False`, so you don't need to create a new dataframe at each step."
   ]
  },
  {
   "cell_type": "code",
   "execution_count": null,
   "metadata": {},
   "outputs": [],
   "source": [
    "#select columns: `SELECT column1, column2, ...FROM table_name;`\n",
    "trades[['ticker', 'price']]"
   ]
  },
  {
   "cell_type": "code",
   "execution_count": null,
   "metadata": {},
   "outputs": [],
   "source": [
    "#select distinct: `SELECT DISTINCT column1, column2, ... FROM table_name;`\n",
    "trades.unique(  'ticker')\n",
    "trades.duplicated(subset='MSFT', keep='first')"
   ]
  },
  {
   "cell_type": "code",
   "execution_count": null,
   "metadata": {},
   "outputs": [],
   "source": [
    "#where (with AND, OR, NOT): `SELECT column1, column2, ... FROM table_name WHERE condition;`\n",
    "trades[ (trades['ticker']=='MSFT') & (trades['quantity']>75)]"
   ]
  },
  {
   "cell_type": "code",
   "execution_count": null,
   "metadata": {},
   "outputs": [],
   "source": [
    "trades[ (trades['ticker']=='MSFT') | (trades['quantity']<75)]"
   ]
  },
  {
   "cell_type": "code",
   "execution_count": null,
   "metadata": {},
   "outputs": [],
   "source": [
    "trades[ ~((trades['ticker']=='MSFT') | (trades['quantity']>75))]"
   ]
  },
  {
   "cell_type": "code",
   "execution_count": null,
   "metadata": {},
   "outputs": [],
   "source": [
    "#order by: `SELECT column1, column2, ... FROM table_name ORDER BY column1, column2, ... ASC|DESC;`\n",
    "trades.sort_values(by=['ticker'], ascending=False, inplace=False)"
   ]
  },
  {
   "attachments": {},
   "cell_type": "markdown",
   "metadata": {},
   "source": [
    "Pandas is not quite as expressionful as R, here, as the `.loc()` method is needed to perform an insert.  However, the `.iloc()` allows rows to be selected by index, which R does not have available."
   ]
  },
  {
   "cell_type": "code",
   "execution_count": null,
   "metadata": {},
   "outputs": [],
   "source": [
    "#insert into: `INSERT INTO table_name VALUES (value1, value2, value3, ...);`\n",
    "trades.loc[trades['ticker']>75, 'ticker'] = 'TEST'"
   ]
  },
  {
   "cell_type": "code",
   "execution_count": null,
   "metadata": {},
   "outputs": [],
   "source": [
    "trades.iloc[1:3]\n",
    "trades.iloc[[1,3]]"
   ]
  }
 ],
 "metadata": {
  "kernelspec": {
   "display_name": "Python 3",
   "language": "python",
   "name": "python3"
  },
  "language_info": {
   "codemirror_mode": {
    "name": "ipython",
    "version": 3
   },
   "file_extension": ".py",
   "mimetype": "text/x-python",
   "name": "python",
   "nbconvert_exporter": "python",
   "pygments_lexer": "ipython3",
   "version": "3.9.13"
  },
  "orig_nbformat": 4,
  "vscode": {
   "interpreter": {
    "hash": "d4d1e4263499bec80672ea0156c357c1ee493ec2b1c70f0acce89fc37c4a6abe"
   }
  }
 },
 "nbformat": 4,
 "nbformat_minor": 2
}
