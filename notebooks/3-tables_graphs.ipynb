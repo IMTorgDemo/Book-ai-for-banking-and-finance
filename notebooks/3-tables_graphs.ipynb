{
 "cells": [
  {
   "attachments": {},
   "cell_type": "markdown",
   "metadata": {},
   "source": [
    "# Tables, Graphs, and Reports"
   ]
  },
  {
   "attachments": {},
   "cell_type": "markdown",
   "metadata": {},
   "source": [
    "## Configure\n",
    "\n",
    "There are many libraries in these fields; however, we will restrict the scope to plotnine, which is a python implementation of R's ggplot2.\n",
    "\n",
    "We will be using data from the Titanic disaster for demonstration.  Each record is of a passenger and descriptive information. Take a look at the [paper](http://campus.lakeforest.edu/frank/FILES/MLFfiles/Bio150/Titanic/TitanicMETA.pdf) for more details on these variables.  \n",
    "\n",
    "For other quick datasets, see [the data](https://github.com/mwaskom/seaborn-data) that come with the python seaborn module."
   ]
  },
  {
   "cell_type": "code",
   "execution_count": 2,
   "metadata": {},
   "outputs": [],
   "source": [
    "import pandas as pd\n",
    "import numpy as np"
   ]
  },
  {
   "cell_type": "code",
   "execution_count": 28,
   "metadata": {},
   "outputs": [],
   "source": [
    "import seaborn as sns\n",
    "import plotnine as p9"
   ]
  },
  {
   "attachments": {},
   "cell_type": "markdown",
   "metadata": {},
   "source": [
    "Most of these fields are self-explanatory, to be sure, 'pclass' is passenger class, 'name' is title and family names, 'sibsp' is number of siblings/spouses aboard, 'parch' is number of parents/children aboard, 'ticket' is ticket number, 'fare' is passenger fare (British Pound), 'cabin' location, 'embarked' is port of embarkation (Cherbourg, Queenstown, Southampton), and 'boat' is which lifeboat they entered (with many missing values for those who did not get a seat)."
   ]
  },
  {
   "cell_type": "code",
   "execution_count": 20,
   "metadata": {},
   "outputs": [
    {
     "data": {
      "text/plain": [
       "(1309, 19)"
      ]
     },
     "execution_count": 20,
     "metadata": {},
     "output_type": "execute_result"
    }
   ],
   "source": [
    "table_url = 'https://raw.githubusercontent.com/alexisperrier/packt-aml/master/ch4/extended_titanic.csv'\n",
    "df = pd.read_csv(table_url)\n",
    "df.shape"
   ]
  },
  {
   "cell_type": "code",
   "execution_count": 21,
   "metadata": {},
   "outputs": [
    {
     "data": {
      "text/html": [
       "<div>\n",
       "<style scoped>\n",
       "    .dataframe tbody tr th:only-of-type {\n",
       "        vertical-align: middle;\n",
       "    }\n",
       "\n",
       "    .dataframe tbody tr th {\n",
       "        vertical-align: top;\n",
       "    }\n",
       "\n",
       "    .dataframe thead th {\n",
       "        text-align: right;\n",
       "    }\n",
       "</style>\n",
       "<table border=\"1\" class=\"dataframe\">\n",
       "  <thead>\n",
       "    <tr style=\"text-align: right;\">\n",
       "      <th></th>\n",
       "      <th>pclass</th>\n",
       "      <th>survived</th>\n",
       "      <th>name</th>\n",
       "      <th>sex</th>\n",
       "      <th>age</th>\n",
       "      <th>sibsp</th>\n",
       "      <th>parch</th>\n",
       "      <th>ticket</th>\n",
       "      <th>fare</th>\n",
       "      <th>cabin</th>\n",
       "      <th>embarked</th>\n",
       "      <th>boat</th>\n",
       "      <th>body</th>\n",
       "      <th>home_dest</th>\n",
       "      <th>is_age_missing</th>\n",
       "      <th>log_fare</th>\n",
       "      <th>title</th>\n",
       "      <th>deck</th>\n",
       "      <th>family_size</th>\n",
       "    </tr>\n",
       "  </thead>\n",
       "  <tbody>\n",
       "    <tr>\n",
       "      <th>0</th>\n",
       "      <td>3</td>\n",
       "      <td>1</td>\n",
       "      <td>de Mulder Mr. Theodore</td>\n",
       "      <td>male</td>\n",
       "      <td>30.0</td>\n",
       "      <td>0</td>\n",
       "      <td>0</td>\n",
       "      <td>345774</td>\n",
       "      <td>9.500</td>\n",
       "      <td>NaN</td>\n",
       "      <td>S</td>\n",
       "      <td>11</td>\n",
       "      <td>NaN</td>\n",
       "      <td>Belgium Detroit MI</td>\n",
       "      <td>1</td>\n",
       "      <td>3.392317</td>\n",
       "      <td>Mulder</td>\n",
       "      <td>NaN</td>\n",
       "      <td>1</td>\n",
       "    </tr>\n",
       "    <tr>\n",
       "      <th>1</th>\n",
       "      <td>3</td>\n",
       "      <td>0</td>\n",
       "      <td>Edvardsson Mr. Gustaf Hjalmar</td>\n",
       "      <td>male</td>\n",
       "      <td>18.0</td>\n",
       "      <td>0</td>\n",
       "      <td>0</td>\n",
       "      <td>349912</td>\n",
       "      <td>7.775</td>\n",
       "      <td>NaN</td>\n",
       "      <td>S</td>\n",
       "      <td>NaN</td>\n",
       "      <td>NaN</td>\n",
       "      <td>Tofta Sweden Joliet IL</td>\n",
       "      <td>1</td>\n",
       "      <td>3.133399</td>\n",
       "      <td>Mr.</td>\n",
       "      <td>NaN</td>\n",
       "      <td>1</td>\n",
       "    </tr>\n",
       "    <tr>\n",
       "      <th>2</th>\n",
       "      <td>2</td>\n",
       "      <td>0</td>\n",
       "      <td>Veal Mr. James</td>\n",
       "      <td>male</td>\n",
       "      <td>40.0</td>\n",
       "      <td>0</td>\n",
       "      <td>0</td>\n",
       "      <td>28221</td>\n",
       "      <td>13.000</td>\n",
       "      <td>NaN</td>\n",
       "      <td>S</td>\n",
       "      <td>NaN</td>\n",
       "      <td>NaN</td>\n",
       "      <td>Barre Co Washington VT</td>\n",
       "      <td>1</td>\n",
       "      <td>3.807355</td>\n",
       "      <td>Mr.</td>\n",
       "      <td>NaN</td>\n",
       "      <td>1</td>\n",
       "    </tr>\n",
       "  </tbody>\n",
       "</table>\n",
       "</div>"
      ],
      "text/plain": [
       "   pclass  survived                           name   sex   age  sibsp  parch  \\\n",
       "0       3         1         de Mulder Mr. Theodore  male  30.0      0      0   \n",
       "1       3         0  Edvardsson Mr. Gustaf Hjalmar  male  18.0      0      0   \n",
       "2       2         0                 Veal Mr. James  male  40.0      0      0   \n",
       "\n",
       "   ticket    fare cabin embarked boat  body               home_dest  \\\n",
       "0  345774   9.500   NaN        S   11   NaN      Belgium Detroit MI   \n",
       "1  349912   7.775   NaN        S  NaN   NaN  Tofta Sweden Joliet IL   \n",
       "2   28221  13.000   NaN        S  NaN   NaN  Barre Co Washington VT   \n",
       "\n",
       "   is_age_missing  log_fare   title deck  family_size  \n",
       "0               1  3.392317  Mulder  NaN            1  \n",
       "1               1  3.133399     Mr.  NaN            1  \n",
       "2               1  3.807355     Mr.  NaN            1  "
      ]
     },
     "execution_count": 21,
     "metadata": {},
     "output_type": "execute_result"
    }
   ],
   "source": [
    "df.head(3)"
   ]
  },
  {
   "attachments": {},
   "cell_type": "markdown",
   "metadata": {},
   "source": [
    "## Tables\n",
    "\n",
    "Cross tabulation in pandas is very accessible.  Below is the simple case with just two categorical variables: survived vs ticket class."
   ]
  },
  {
   "cell_type": "code",
   "execution_count": 7,
   "metadata": {},
   "outputs": [
    {
     "data": {
      "text/html": [
       "<div>\n",
       "<style scoped>\n",
       "    .dataframe tbody tr th:only-of-type {\n",
       "        vertical-align: middle;\n",
       "    }\n",
       "\n",
       "    .dataframe tbody tr th {\n",
       "        vertical-align: top;\n",
       "    }\n",
       "\n",
       "    .dataframe thead th {\n",
       "        text-align: right;\n",
       "    }\n",
       "</style>\n",
       "<table border=\"1\" class=\"dataframe\">\n",
       "  <thead>\n",
       "    <tr style=\"text-align: right;\">\n",
       "      <th>pclass</th>\n",
       "      <th>1</th>\n",
       "      <th>2</th>\n",
       "      <th>3</th>\n",
       "      <th>All</th>\n",
       "    </tr>\n",
       "    <tr>\n",
       "      <th>survived</th>\n",
       "      <th></th>\n",
       "      <th></th>\n",
       "      <th></th>\n",
       "      <th></th>\n",
       "    </tr>\n",
       "  </thead>\n",
       "  <tbody>\n",
       "    <tr>\n",
       "      <th>0</th>\n",
       "      <td>80</td>\n",
       "      <td>97</td>\n",
       "      <td>372</td>\n",
       "      <td>549</td>\n",
       "    </tr>\n",
       "    <tr>\n",
       "      <th>1</th>\n",
       "      <td>136</td>\n",
       "      <td>87</td>\n",
       "      <td>119</td>\n",
       "      <td>342</td>\n",
       "    </tr>\n",
       "    <tr>\n",
       "      <th>All</th>\n",
       "      <td>216</td>\n",
       "      <td>184</td>\n",
       "      <td>491</td>\n",
       "      <td>891</td>\n",
       "    </tr>\n",
       "  </tbody>\n",
       "</table>\n",
       "</div>"
      ],
      "text/plain": [
       "pclass      1    2    3  All\n",
       "survived                    \n",
       "0          80   97  372  549\n",
       "1         136   87  119  342\n",
       "All       216  184  491  891"
      ]
     },
     "execution_count": 7,
     "metadata": {},
     "output_type": "execute_result"
    }
   ],
   "source": [
    "pd.crosstab(df.survived, df.pclass, \n",
    "            margins=True\n",
    "            )"
   ]
  },
  {
   "attachments": {},
   "cell_type": "markdown",
   "metadata": {},
   "source": [
    "These counts can be `normalized` as a percentage of the totals; hence, the lower-right corner value is 100% when `margins` are included.\n",
    "\n",
    "We can also scope normalization to just the `rows` / `columns`."
   ]
  },
  {
   "cell_type": "code",
   "execution_count": 18,
   "metadata": {},
   "outputs": [
    {
     "data": {
      "text/html": [
       "<div>\n",
       "<style scoped>\n",
       "    .dataframe tbody tr th:only-of-type {\n",
       "        vertical-align: middle;\n",
       "    }\n",
       "\n",
       "    .dataframe tbody tr th {\n",
       "        vertical-align: top;\n",
       "    }\n",
       "\n",
       "    .dataframe thead th {\n",
       "        text-align: right;\n",
       "    }\n",
       "</style>\n",
       "<table border=\"1\" class=\"dataframe\">\n",
       "  <thead>\n",
       "    <tr style=\"text-align: right;\">\n",
       "      <th>pclass</th>\n",
       "      <th>1</th>\n",
       "      <th>2</th>\n",
       "      <th>3</th>\n",
       "      <th>All</th>\n",
       "    </tr>\n",
       "    <tr>\n",
       "      <th>survived</th>\n",
       "      <th></th>\n",
       "      <th></th>\n",
       "      <th></th>\n",
       "      <th></th>\n",
       "    </tr>\n",
       "  </thead>\n",
       "  <tbody>\n",
       "    <tr>\n",
       "      <th>0</th>\n",
       "      <td>9.0</td>\n",
       "      <td>10.9</td>\n",
       "      <td>41.8</td>\n",
       "      <td>61.6</td>\n",
       "    </tr>\n",
       "    <tr>\n",
       "      <th>1</th>\n",
       "      <td>15.3</td>\n",
       "      <td>9.8</td>\n",
       "      <td>13.4</td>\n",
       "      <td>38.4</td>\n",
       "    </tr>\n",
       "    <tr>\n",
       "      <th>All</th>\n",
       "      <td>24.2</td>\n",
       "      <td>20.7</td>\n",
       "      <td>55.1</td>\n",
       "      <td>100.0</td>\n",
       "    </tr>\n",
       "  </tbody>\n",
       "</table>\n",
       "</div>"
      ],
      "text/plain": [
       "pclass       1     2     3    All\n",
       "survived                         \n",
       "0          9.0  10.9  41.8   61.6\n",
       "1         15.3   9.8  13.4   38.4\n",
       "All       24.2  20.7  55.1  100.0"
      ]
     },
     "execution_count": 18,
     "metadata": {},
     "output_type": "execute_result"
    }
   ],
   "source": [
    "pd.crosstab(df.survived, df.pclass, \n",
    "            margins=True,\n",
    "            normalize=True\n",
    "            ).round(3)*100"
   ]
  },
  {
   "cell_type": "code",
   "execution_count": 22,
   "metadata": {},
   "outputs": [
    {
     "data": {
      "text/html": [
       "<div>\n",
       "<style scoped>\n",
       "    .dataframe tbody tr th:only-of-type {\n",
       "        vertical-align: middle;\n",
       "    }\n",
       "\n",
       "    .dataframe tbody tr th {\n",
       "        vertical-align: top;\n",
       "    }\n",
       "\n",
       "    .dataframe thead th {\n",
       "        text-align: right;\n",
       "    }\n",
       "</style>\n",
       "<table border=\"1\" class=\"dataframe\">\n",
       "  <thead>\n",
       "    <tr style=\"text-align: right;\">\n",
       "      <th>pclass</th>\n",
       "      <th>1</th>\n",
       "      <th>2</th>\n",
       "      <th>3</th>\n",
       "      <th>All</th>\n",
       "    </tr>\n",
       "    <tr>\n",
       "      <th>survived</th>\n",
       "      <th></th>\n",
       "      <th></th>\n",
       "      <th></th>\n",
       "      <th></th>\n",
       "    </tr>\n",
       "  </thead>\n",
       "  <tbody>\n",
       "    <tr>\n",
       "      <th>0</th>\n",
       "      <td>38.1</td>\n",
       "      <td>57.0</td>\n",
       "      <td>74.5</td>\n",
       "      <td>61.8</td>\n",
       "    </tr>\n",
       "    <tr>\n",
       "      <th>1</th>\n",
       "      <td>61.9</td>\n",
       "      <td>43.0</td>\n",
       "      <td>25.5</td>\n",
       "      <td>38.2</td>\n",
       "    </tr>\n",
       "  </tbody>\n",
       "</table>\n",
       "</div>"
      ],
      "text/plain": [
       "pclass       1     2     3   All\n",
       "survived                        \n",
       "0         38.1  57.0  74.5  61.8\n",
       "1         61.9  43.0  25.5  38.2"
      ]
     },
     "execution_count": 22,
     "metadata": {},
     "output_type": "execute_result"
    }
   ],
   "source": [
    "pd.crosstab(df.survived, df.pclass, \n",
    "            margins=True,\n",
    "            normalize='columns'\n",
    "            ).round(3)*100"
   ]
  },
  {
   "attachments": {},
   "cell_type": "markdown",
   "metadata": {},
   "source": [
    "Instead of using count data, another metric can be used with a descriptive statistic.  Here, the `median` is applied to the price of the ticket across the categories.  It seems the price paid did influence outcome of survival."
   ]
  },
  {
   "cell_type": "code",
   "execution_count": 25,
   "metadata": {},
   "outputs": [
    {
     "data": {
      "text/html": [
       "<div>\n",
       "<style scoped>\n",
       "    .dataframe tbody tr th:only-of-type {\n",
       "        vertical-align: middle;\n",
       "    }\n",
       "\n",
       "    .dataframe tbody tr th {\n",
       "        vertical-align: top;\n",
       "    }\n",
       "\n",
       "    .dataframe thead th {\n",
       "        text-align: right;\n",
       "    }\n",
       "</style>\n",
       "<table border=\"1\" class=\"dataframe\">\n",
       "  <thead>\n",
       "    <tr style=\"text-align: right;\">\n",
       "      <th>pclass</th>\n",
       "      <th>1</th>\n",
       "      <th>2</th>\n",
       "      <th>3</th>\n",
       "    </tr>\n",
       "    <tr>\n",
       "      <th>survived</th>\n",
       "      <th></th>\n",
       "      <th></th>\n",
       "      <th></th>\n",
       "    </tr>\n",
       "  </thead>\n",
       "  <tbody>\n",
       "    <tr>\n",
       "      <th>0</th>\n",
       "      <td>50.0</td>\n",
       "      <td>13.0</td>\n",
       "      <td>8.0</td>\n",
       "    </tr>\n",
       "    <tr>\n",
       "      <th>1</th>\n",
       "      <td>77.0</td>\n",
       "      <td>23.0</td>\n",
       "      <td>8.0</td>\n",
       "    </tr>\n",
       "  </tbody>\n",
       "</table>\n",
       "</div>"
      ],
      "text/plain": [
       "pclass       1     2    3\n",
       "survived                 \n",
       "0         50.0  13.0  8.0\n",
       "1         77.0  23.0  8.0"
      ]
     },
     "execution_count": 25,
     "metadata": {},
     "output_type": "execute_result"
    }
   ],
   "source": [
    "pd.crosstab(df.survived, df.pclass, \n",
    "            values=df.fare, \n",
    "            aggfunc='median'\n",
    "            ).round(0)"
   ]
  },
  {
   "attachments": {},
   "cell_type": "markdown",
   "metadata": {},
   "source": [
    "You can improve the sophistication by grouping factors.  Here, we group the place of embarkation with the passengers' class.  Interestingly, fare price did not seem to influence survival of those from Queensland."
   ]
  },
  {
   "cell_type": "code",
   "execution_count": 31,
   "metadata": {},
   "outputs": [
    {
     "data": {
      "text/html": [
       "<div>\n",
       "<style scoped>\n",
       "    .dataframe tbody tr th:only-of-type {\n",
       "        vertical-align: middle;\n",
       "    }\n",
       "\n",
       "    .dataframe tbody tr th {\n",
       "        vertical-align: top;\n",
       "    }\n",
       "\n",
       "    .dataframe thead tr th {\n",
       "        text-align: left;\n",
       "    }\n",
       "\n",
       "    .dataframe thead tr:last-of-type th {\n",
       "        text-align: right;\n",
       "    }\n",
       "</style>\n",
       "<table border=\"1\" class=\"dataframe\">\n",
       "  <thead>\n",
       "    <tr>\n",
       "      <th>Emarkation City</th>\n",
       "      <th colspan=\"3\" halign=\"left\">C</th>\n",
       "      <th colspan=\"3\" halign=\"left\">Q</th>\n",
       "      <th colspan=\"3\" halign=\"left\">S</th>\n",
       "    </tr>\n",
       "    <tr>\n",
       "      <th>Class</th>\n",
       "      <th>1</th>\n",
       "      <th>2</th>\n",
       "      <th>3</th>\n",
       "      <th>1</th>\n",
       "      <th>2</th>\n",
       "      <th>3</th>\n",
       "      <th>1</th>\n",
       "      <th>2</th>\n",
       "      <th>3</th>\n",
       "    </tr>\n",
       "    <tr>\n",
       "      <th>survived</th>\n",
       "      <th></th>\n",
       "      <th></th>\n",
       "      <th></th>\n",
       "      <th></th>\n",
       "      <th></th>\n",
       "      <th></th>\n",
       "      <th></th>\n",
       "      <th></th>\n",
       "      <th></th>\n",
       "    </tr>\n",
       "  </thead>\n",
       "  <tbody>\n",
       "    <tr>\n",
       "      <th>0</th>\n",
       "      <td>73.0</td>\n",
       "      <td>15.0</td>\n",
       "      <td>7.0</td>\n",
       "      <td>90.0</td>\n",
       "      <td>12.0</td>\n",
       "      <td>8.0</td>\n",
       "      <td>42.0</td>\n",
       "      <td>13.0</td>\n",
       "      <td>8.0</td>\n",
       "    </tr>\n",
       "    <tr>\n",
       "      <th>1</th>\n",
       "      <td>79.0</td>\n",
       "      <td>19.0</td>\n",
       "      <td>13.0</td>\n",
       "      <td>90.0</td>\n",
       "      <td>12.0</td>\n",
       "      <td>8.0</td>\n",
       "      <td>57.0</td>\n",
       "      <td>23.0</td>\n",
       "      <td>9.0</td>\n",
       "    </tr>\n",
       "  </tbody>\n",
       "</table>\n",
       "</div>"
      ],
      "text/plain": [
       "Emarkation City     C                 Q                S           \n",
       "Class               1     2     3     1     2    3     1     2    3\n",
       "survived                                                           \n",
       "0                73.0  15.0   7.0  90.0  12.0  8.0  42.0  13.0  8.0\n",
       "1                79.0  19.0  13.0  90.0  12.0  8.0  57.0  23.0  9.0"
      ]
     },
     "execution_count": 31,
     "metadata": {},
     "output_type": "execute_result"
    }
   ],
   "source": [
    "pd.crosstab(df.survived, [df.embarked, df.pclass], \n",
    "            values=df.fare, \n",
    "            aggfunc='median',\n",
    "            colnames=['Emarkation City', \"Class\"],\n",
    "            dropna=False\n",
    "            ).round(0)"
   ]
  },
  {
   "attachments": {},
   "cell_type": "markdown",
   "metadata": {},
   "source": [
    "When the table gets larger, it becomes increasingly difficult to assess numbers.  Instead, you may want to use seaborn's heatmap which accepts crosstab's resulting DataFrame, directly."
   ]
  },
  {
   "cell_type": "code",
   "execution_count": 39,
   "metadata": {},
   "outputs": [
    {
     "data": {
      "text/html": [
       "<div>\n",
       "<style scoped>\n",
       "    .dataframe tbody tr th:only-of-type {\n",
       "        vertical-align: middle;\n",
       "    }\n",
       "\n",
       "    .dataframe tbody tr th {\n",
       "        vertical-align: top;\n",
       "    }\n",
       "\n",
       "    .dataframe thead tr th {\n",
       "        text-align: left;\n",
       "    }\n",
       "\n",
       "    .dataframe thead tr:last-of-type th {\n",
       "        text-align: right;\n",
       "    }\n",
       "</style>\n",
       "<table border=\"1\" class=\"dataframe\">\n",
       "  <thead>\n",
       "    <tr>\n",
       "      <th></th>\n",
       "      <th>Emarkation City</th>\n",
       "      <th colspan=\"3\" halign=\"left\">C</th>\n",
       "      <th colspan=\"3\" halign=\"left\">Q</th>\n",
       "      <th colspan=\"3\" halign=\"left\">S</th>\n",
       "    </tr>\n",
       "    <tr>\n",
       "      <th></th>\n",
       "      <th>Class</th>\n",
       "      <th>1</th>\n",
       "      <th>2</th>\n",
       "      <th>3</th>\n",
       "      <th>1</th>\n",
       "      <th>2</th>\n",
       "      <th>3</th>\n",
       "      <th>1</th>\n",
       "      <th>2</th>\n",
       "      <th>3</th>\n",
       "    </tr>\n",
       "    <tr>\n",
       "      <th>sex</th>\n",
       "      <th>survived</th>\n",
       "      <th></th>\n",
       "      <th></th>\n",
       "      <th></th>\n",
       "      <th></th>\n",
       "      <th></th>\n",
       "      <th></th>\n",
       "      <th></th>\n",
       "      <th></th>\n",
       "      <th></th>\n",
       "    </tr>\n",
       "  </thead>\n",
       "  <tbody>\n",
       "    <tr>\n",
       "      <th rowspan=\"2\" valign=\"top\">female</th>\n",
       "      <th>0</th>\n",
       "      <td>30.0</td>\n",
       "      <td>NaN</td>\n",
       "      <td>14.0</td>\n",
       "      <td>NaN</td>\n",
       "      <td>NaN</td>\n",
       "      <td>8.0</td>\n",
       "      <td>152.0</td>\n",
       "      <td>21.0</td>\n",
       "      <td>16.0</td>\n",
       "    </tr>\n",
       "    <tr>\n",
       "      <th>1</th>\n",
       "      <td>83.0</td>\n",
       "      <td>28.0</td>\n",
       "      <td>15.0</td>\n",
       "      <td>90.0</td>\n",
       "      <td>12.0</td>\n",
       "      <td>8.0</td>\n",
       "      <td>78.0</td>\n",
       "      <td>23.0</td>\n",
       "      <td>11.0</td>\n",
       "    </tr>\n",
       "    <tr>\n",
       "      <th rowspan=\"2\" valign=\"top\">male</th>\n",
       "      <th>0</th>\n",
       "      <td>75.0</td>\n",
       "      <td>15.0</td>\n",
       "      <td>7.0</td>\n",
       "      <td>90.0</td>\n",
       "      <td>12.0</td>\n",
       "      <td>8.0</td>\n",
       "      <td>38.0</td>\n",
       "      <td>13.0</td>\n",
       "      <td>8.0</td>\n",
       "    </tr>\n",
       "    <tr>\n",
       "      <th>1</th>\n",
       "      <td>57.0</td>\n",
       "      <td>14.0</td>\n",
       "      <td>11.0</td>\n",
       "      <td>NaN</td>\n",
       "      <td>NaN</td>\n",
       "      <td>8.0</td>\n",
       "      <td>30.0</td>\n",
       "      <td>19.0</td>\n",
       "      <td>8.0</td>\n",
       "    </tr>\n",
       "  </tbody>\n",
       "</table>\n",
       "</div>"
      ],
      "text/plain": [
       "Emarkation City     C                 Q                 S            \n",
       "Class               1     2     3     1     2    3      1     2     3\n",
       "sex    survived                                                      \n",
       "female 0         30.0   NaN  14.0   NaN   NaN  8.0  152.0  21.0  16.0\n",
       "       1         83.0  28.0  15.0  90.0  12.0  8.0   78.0  23.0  11.0\n",
       "male   0         75.0  15.0   7.0  90.0  12.0  8.0   38.0  13.0   8.0\n",
       "       1         57.0  14.0  11.0   NaN   NaN  8.0   30.0  19.0   8.0"
      ]
     },
     "execution_count": 39,
     "metadata": {},
     "output_type": "execute_result"
    }
   ],
   "source": [
    "ct = pd.crosstab([df.sex, df.survived], [df.embarked, df.pclass], \n",
    "                 values=df.fare, \n",
    "                 aggfunc='median',\n",
    "                 colnames=['Emarkation City', \"Class\"],\n",
    "                 dropna=False\n",
    "                 ).round(0)\n",
    "ct"
   ]
  },
  {
   "cell_type": "code",
   "execution_count": 44,
   "metadata": {},
   "outputs": [
    {
     "data": {
      "image/png": "[encoded data removed]",
      "text/plain": [
       "<Figure size 640x480 with 1 Axes>"
      ]
     },
     "metadata": {},
     "output_type": "display_data"
    }
   ],
   "source": [
    "ax = sns.heatmap(ct, \n",
    "            cmap=\"crest\", \n",
    "            annot=True, \n",
    "            cbar=False,\n",
    "            fmt=\".1f\"\n",
    "            )\n",
    "ax.set(xlabel=\"\", ylabel=\"\")\n",
    "ax.xaxis.tick_top()"
   ]
  },
  {
   "attachments": {},
   "cell_type": "markdown",
   "metadata": {},
   "source": [
    "Using the `.styling` method can greatly improve the quality of output.  The following highlights the maximum value of the table and returns the entire table in HTML.  This can be displayed directly in Jupyter.\n",
    "\n",
    "The highest median fare paid was for women from Southampton with a 1st class ticket, who, strangely, did not survive."
   ]
  },
  {
   "cell_type": "code",
   "execution_count": 61,
   "metadata": {},
   "outputs": [],
   "source": [
    "from IPython.display import display, HTML"
   ]
  },
  {
   "cell_type": "code",
   "execution_count": 67,
   "metadata": {},
   "outputs": [
    {
     "data": {
      "text/html": [
       "<style type=\"text/css\">\n",
       "#T_59c16_row0_col6 {\n",
       "  background-color: darkred;\n",
       "  font-weight: bold;\n",
       "}\n",
       "</style>\n",
       "<table id=\"T_59c16\">\n",
       "  <thead>\n",
       "    <tr>\n",
       "      <th class=\"blank\" >&nbsp;</th>\n",
       "      <th class=\"index_name level0\" >Emarkation City</th>\n",
       "      <th id=\"T_59c16_level0_col0\" class=\"col_heading level0 col0\" colspan=\"3\">C</th>\n",
       "      <th id=\"T_59c16_level0_col3\" class=\"col_heading level0 col3\" colspan=\"3\">Q</th>\n",
       "      <th id=\"T_59c16_level0_col6\" class=\"col_heading level0 col6\" colspan=\"3\">S</th>\n",
       "    </tr>\n",
       "    <tr>\n",
       "      <th class=\"blank\" >&nbsp;</th>\n",
       "      <th class=\"index_name level1\" >Class</th>\n",
       "      <th id=\"T_59c16_level1_col0\" class=\"col_heading level1 col0\" >1</th>\n",
       "      <th id=\"T_59c16_level1_col1\" class=\"col_heading level1 col1\" >2</th>\n",
       "      <th id=\"T_59c16_level1_col2\" class=\"col_heading level1 col2\" >3</th>\n",
       "      <th id=\"T_59c16_level1_col3\" class=\"col_heading level1 col3\" >1</th>\n",
       "      <th id=\"T_59c16_level1_col4\" class=\"col_heading level1 col4\" >2</th>\n",
       "      <th id=\"T_59c16_level1_col5\" class=\"col_heading level1 col5\" >3</th>\n",
       "      <th id=\"T_59c16_level1_col6\" class=\"col_heading level1 col6\" >1</th>\n",
       "      <th id=\"T_59c16_level1_col7\" class=\"col_heading level1 col7\" >2</th>\n",
       "      <th id=\"T_59c16_level1_col8\" class=\"col_heading level1 col8\" >3</th>\n",
       "    </tr>\n",
       "    <tr>\n",
       "      <th class=\"index_name level0\" >sex</th>\n",
       "      <th class=\"index_name level1\" >survived</th>\n",
       "      <th class=\"blank col0\" >&nbsp;</th>\n",
       "      <th class=\"blank col1\" >&nbsp;</th>\n",
       "      <th class=\"blank col2\" >&nbsp;</th>\n",
       "      <th class=\"blank col3\" >&nbsp;</th>\n",
       "      <th class=\"blank col4\" >&nbsp;</th>\n",
       "      <th class=\"blank col5\" >&nbsp;</th>\n",
       "      <th class=\"blank col6\" >&nbsp;</th>\n",
       "      <th class=\"blank col7\" >&nbsp;</th>\n",
       "      <th class=\"blank col8\" >&nbsp;</th>\n",
       "    </tr>\n",
       "  </thead>\n",
       "  <tbody>\n",
       "    <tr>\n",
       "      <th id=\"T_59c16_level0_row0\" class=\"row_heading level0 row0\" rowspan=\"2\">female</th>\n",
       "      <th id=\"T_59c16_level1_row0\" class=\"row_heading level1 row0\" >0</th>\n",
       "      <td id=\"T_59c16_row0_col0\" class=\"data row0 col0\" >30.000000</td>\n",
       "      <td id=\"T_59c16_row0_col1\" class=\"data row0 col1\" >nan</td>\n",
       "      <td id=\"T_59c16_row0_col2\" class=\"data row0 col2\" >14.000000</td>\n",
       "      <td id=\"T_59c16_row0_col3\" class=\"data row0 col3\" >nan</td>\n",
       "      <td id=\"T_59c16_row0_col4\" class=\"data row0 col4\" >nan</td>\n",
       "      <td id=\"T_59c16_row0_col5\" class=\"data row0 col5\" >8.000000</td>\n",
       "      <td id=\"T_59c16_row0_col6\" class=\"data row0 col6\" >152.000000</td>\n",
       "      <td id=\"T_59c16_row0_col7\" class=\"data row0 col7\" >21.000000</td>\n",
       "      <td id=\"T_59c16_row0_col8\" class=\"data row0 col8\" >16.000000</td>\n",
       "    </tr>\n",
       "    <tr>\n",
       "      <th id=\"T_59c16_level1_row1\" class=\"row_heading level1 row1\" >1</th>\n",
       "      <td id=\"T_59c16_row1_col0\" class=\"data row1 col0\" >83.000000</td>\n",
       "      <td id=\"T_59c16_row1_col1\" class=\"data row1 col1\" >28.000000</td>\n",
       "      <td id=\"T_59c16_row1_col2\" class=\"data row1 col2\" >15.000000</td>\n",
       "      <td id=\"T_59c16_row1_col3\" class=\"data row1 col3\" >90.000000</td>\n",
       "      <td id=\"T_59c16_row1_col4\" class=\"data row1 col4\" >12.000000</td>\n",
       "      <td id=\"T_59c16_row1_col5\" class=\"data row1 col5\" >8.000000</td>\n",
       "      <td id=\"T_59c16_row1_col6\" class=\"data row1 col6\" >78.000000</td>\n",
       "      <td id=\"T_59c16_row1_col7\" class=\"data row1 col7\" >23.000000</td>\n",
       "      <td id=\"T_59c16_row1_col8\" class=\"data row1 col8\" >11.000000</td>\n",
       "    </tr>\n",
       "    <tr>\n",
       "      <th id=\"T_59c16_level0_row2\" class=\"row_heading level0 row2\" rowspan=\"2\">male</th>\n",
       "      <th id=\"T_59c16_level1_row2\" class=\"row_heading level1 row2\" >0</th>\n",
       "      <td id=\"T_59c16_row2_col0\" class=\"data row2 col0\" >75.000000</td>\n",
       "      <td id=\"T_59c16_row2_col1\" class=\"data row2 col1\" >15.000000</td>\n",
       "      <td id=\"T_59c16_row2_col2\" class=\"data row2 col2\" >7.000000</td>\n",
       "      <td id=\"T_59c16_row2_col3\" class=\"data row2 col3\" >90.000000</td>\n",
       "      <td id=\"T_59c16_row2_col4\" class=\"data row2 col4\" >12.000000</td>\n",
       "      <td id=\"T_59c16_row2_col5\" class=\"data row2 col5\" >8.000000</td>\n",
       "      <td id=\"T_59c16_row2_col6\" class=\"data row2 col6\" >38.000000</td>\n",
       "      <td id=\"T_59c16_row2_col7\" class=\"data row2 col7\" >13.000000</td>\n",
       "      <td id=\"T_59c16_row2_col8\" class=\"data row2 col8\" >8.000000</td>\n",
       "    </tr>\n",
       "    <tr>\n",
       "      <th id=\"T_59c16_level1_row3\" class=\"row_heading level1 row3\" >1</th>\n",
       "      <td id=\"T_59c16_row3_col0\" class=\"data row3 col0\" >57.000000</td>\n",
       "      <td id=\"T_59c16_row3_col1\" class=\"data row3 col1\" >14.000000</td>\n",
       "      <td id=\"T_59c16_row3_col2\" class=\"data row3 col2\" >11.000000</td>\n",
       "      <td id=\"T_59c16_row3_col3\" class=\"data row3 col3\" >nan</td>\n",
       "      <td id=\"T_59c16_row3_col4\" class=\"data row3 col4\" >nan</td>\n",
       "      <td id=\"T_59c16_row3_col5\" class=\"data row3 col5\" >8.000000</td>\n",
       "      <td id=\"T_59c16_row3_col6\" class=\"data row3 col6\" >30.000000</td>\n",
       "      <td id=\"T_59c16_row3_col7\" class=\"data row3 col7\" >19.000000</td>\n",
       "      <td id=\"T_59c16_row3_col8\" class=\"data row3 col8\" >8.000000</td>\n",
       "    </tr>\n",
       "  </tbody>\n",
       "</table>\n"
      ],
      "text/plain": [
       "<IPython.core.display.HTML object>"
      ]
     },
     "metadata": {},
     "output_type": "display_data"
    }
   ],
   "source": [
    "s = ct.style.highlight_max(axis=None, props='background-color:darkred; font-weight:bold;')\n",
    "display(HTML( s.to_html() ))"
   ]
  },
  {
   "attachments": {},
   "cell_type": "markdown",
   "metadata": {},
   "source": [
    "## Graphs"
   ]
  },
  {
   "cell_type": "markdown",
   "metadata": {},
   "source": []
  },
  {
   "cell_type": "code",
   "execution_count": null,
   "metadata": {},
   "outputs": [],
   "source": []
  },
  {
   "cell_type": "code",
   "execution_count": null,
   "metadata": {},
   "outputs": [],
   "source": []
  },
  {
   "cell_type": "code",
   "execution_count": null,
   "metadata": {},
   "outputs": [],
   "source": []
  },
  {
   "cell_type": "code",
   "execution_count": null,
   "metadata": {},
   "outputs": [],
   "source": []
  },
  {
   "attachments": {},
   "cell_type": "markdown",
   "metadata": {},
   "source": [
    "## Reports\n",
    "\n",
    "Pandas (with XlsxWriter library) allows us to make an Excel sheet with graphs and other Excel functionality.  We need to define the type of the chart (line chart in our example) and the data series for the chart (the data series needs to be in the Excel spreadsheet)."
   ]
  },
  {
   "cell_type": "code",
   "execution_count": null,
   "metadata": {},
   "outputs": [],
   "source": [
    "report_name = 'example_report.xlsx'\n",
    "sheet_name = 'Sheet1'\n",
    "writer = pd.ExcelWriter(report_name, engine='xlsxwriter')\n",
    "df.to_excel(writer, sheet_name=sheet_name, index=False)\n",
    "# writer.save()\n",
    "\n",
    "# define the workbook\n",
    "workbook = writer.book\n",
    "worksheet = writer.sheets[sheet_name]\n",
    "# create a chart line object\n",
    "chart = workbook.add_chart({'type': 'line'})\n",
    "# configure the series of the chart from the spreadsheet\n",
    "# using a list of values instead of category/value formulas:\n",
    "#     [sheetname, first_row, first_col, last_row, last_col]\n",
    "chart.add_series({\n",
    "    'categories': [sheet_name, 1, 0, 3, 0],\n",
    "    'values':     [sheet_name, 1, 1, 3, 1],\n",
    "})\n",
    "# configure the chart axes\n",
    "chart.set_x_axis({'name': 'Index', 'position_axis': 'on_tick'})\n",
    "chart.set_y_axis({'name': 'Value', 'major_gridlines': {'visible': False}})\n",
    "# place the chart on the worksheet\n",
    "worksheet.insert_chart('E2', chart)\n",
    "# output the excel file\n",
    "writer.save()"
   ]
  }
 ],
 "metadata": {
  "kernelspec": {
   "display_name": "base",
   "language": "python",
   "name": "python3"
  },
  "language_info": {
   "codemirror_mode": {
    "name": "ipython",
    "version": 3
   },
   "file_extension": ".py",
   "mimetype": "text/x-python",
   "name": "python",
   "nbconvert_exporter": "python",
   "pygments_lexer": "ipython3",
   "version": "3.9.13"
  },
  "orig_nbformat": 4,
  "vscode": {
   "interpreter": {
    "hash": "d4d1e4263499bec80672ea0156c357c1ee493ec2b1c70f0acce89fc37c4a6abe"
   }
  }
 },
 "nbformat": 4,
 "nbformat_minor": 2
}
